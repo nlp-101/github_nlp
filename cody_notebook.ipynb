{
 "cells": [
  {
   "cell_type": "code",
   "execution_count": 10,
   "metadata": {},
   "outputs": [],
   "source": [
    "import os\n",
    "import json\n",
    "import itertools as it\n",
    "from typing import List, Dict\n",
    "\n",
    "import requests\n",
    "from requests import get\n",
    "from bs4 import BeautifulSoup\n",
    "import pandas as pd\n",
    "import urllib.request"
   ]
  },
  {
   "cell_type": "code",
   "execution_count": 22,
   "metadata": {},
   "outputs": [
    {
     "name": "stdout",
     "output_type": "stream",
     "text": [
      "429\n",
      "429\n",
      "429\n",
      "429\n",
      "429\n",
      "429\n",
      "429\n",
      "429\n",
      "429\n",
      "429\n",
      "429\n",
      "429\n",
      "429\n",
      "429\n",
      "429\n",
      "429\n",
      "429\n",
      "429\n"
     ]
    }
   ],
   "source": [
    "import requests\n",
    "from bs4 import BeautifulSoup\n",
    "\n",
    "trending_repo_url = 'https://github.com/trending?since=monthly'\n",
    "forked_repo_url = 'https://github.com/search?o=desc&{:s}{:d}{:s}q=stars%3A%3E1&s=forks&type=Repositories'.format('p=',current, '&')\n",
    "star_repo_url = \"https://github.com/search?{:s}{:d}{:s}q=stars%3A%3E0&s=stars&type=Repositories\".format('p=',current, '&')\n",
    "\n",
    "\n",
    "current = 2\n",
    "while current < 20:\n",
    "    url = 'https://github.com/search?o=desc&{:s}{:d}{:s}q=stars%3A%3E1&s=forks&type=Repositories'.format('p=',current, '&')\n",
    "#     print(url)\n",
    "    response = requests.get(url)\n",
    "    data = response.text\n",
    "    print(response.status_code)\n",
    "    soup = BeautifulSoup(data, \"html.parser\")\n",
    "    for link in soup.findAll('a', class_=\"v-align-middle\"):\n",
    "        print ('https://github.com' + link.get('href'))\n",
    "    current += 1"
   ]
  },
  {
   "cell_type": "code",
   "execution_count": 12,
   "metadata": {},
   "outputs": [
    {
     "name": "stdout",
     "output_type": "stream",
     "text": [
      "['/freeCodeCamp/freeCodeCamp', '/996icu/996.ICU', '/vuejs/vue', '/twbs/bootstrap', '/facebook/react', '/tensorflow/tensorflow', '/EbookFoundation/free-programming-books', '/sindresorhus/awesome', '/getify/You-Dont-Know-JS', '/airbnb/javascript']\n",
      "['/freeCodeCamp/freeCodeCamp', '/996icu/996.ICU', '/vuejs/vue', '/twbs/bootstrap', '/facebook/react', '/tensorflow/tensorflow', '/EbookFoundation/free-programming-books', '/sindresorhus/awesome', '/getify/You-Dont-Know-JS', '/airbnb/javascript']\n",
      "['/airbnb/javascript', '/d3/d3', '/github/gitignore', '/kamranahmedse/developer-roadmap', '/jwasham/coding-interview-university', '/facebook/react-native', '/microsoft/vscode', '/torvalds/linux', '/electron/electron', '/facebook/create-react-app']\n"
     ]
    }
   ],
   "source": [
    "current = 0\n",
    "while current < 3: # cycles through n-number of pages \n",
    "    trending_repo_url = 'https://github.com/trending?since=monthly'\n",
    "    forked_repo_url = 'https://github.com/search?o=desc&{:s}{:d}{:s}q=stars%3A%3E1&s=forks&type=Repositories'.format('p=',current, '&')\n",
    "    star_repo_url = \"https://github.com/search?{:s}{:d}{:s}q=stars%3A%3E0&s=stars&type=Repositories\".format('p=',current, '&')\n",
    "    \n",
    "    url = star_repo_url\n",
    "    data = urllib.request.urlopen(url).read()\n",
    "    soup = BeautifulSoup(data, \"html.parser\")\n",
    "    links=[]\n",
    "    for link in soup.findAll('a', class_=\"v-align-middle\"):\n",
    "        links.append(link.get('href')) # pulls the href from the repo list page and appends it to a list\n",
    "    current += 1\n",
    "    print(links)"
   ]
  },
  {
   "cell_type": "code",
   "execution_count": 139,
   "metadata": {},
   "outputs": [
    {
     "name": "stdout",
     "output_type": "stream",
     "text": [
      "['/atom/atom', '/udacity/fullstack-nanodegree-vm', '/ColorlibHQ/AdminLTE', '/wesbos/JavaScript30', '/TheAlgorithms/Python', '/heroku/node-js-sample', '/PanJiaChen/vue-element-admin', '/microsoft/vscode', '/udacity/create-your-own-adventure', '/odoo/odoo']\n",
      "['/atom/atom', '/udacity/fullstack-nanodegree-vm', '/ColorlibHQ/AdminLTE', '/wesbos/JavaScript30', '/TheAlgorithms/Python', '/heroku/node-js-sample', '/PanJiaChen/vue-element-admin', '/microsoft/vscode', '/udacity/create-your-own-adventure', '/odoo/odoo']\n",
      "['/atom/atom', '/udacity/fullstack-nanodegree-vm', '/ColorlibHQ/AdminLTE', '/wesbos/JavaScript30', '/TheAlgorithms/Python', '/heroku/node-js-sample', '/PanJiaChen/vue-element-admin', '/microsoft/vscode', '/udacity/create-your-own-adventure', '/odoo/odoo']\n",
      "['/atom/atom', '/udacity/fullstack-nanodegree-vm', '/ColorlibHQ/AdminLTE', '/wesbos/JavaScript30', '/TheAlgorithms/Python', '/heroku/node-js-sample', '/PanJiaChen/vue-element-admin', '/microsoft/vscode', '/udacity/create-your-own-adventure', '/odoo/odoo']\n",
      "['/atom/atom', '/udacity/fullstack-nanodegree-vm', '/ColorlibHQ/AdminLTE', '/wesbos/JavaScript30', '/TheAlgorithms/Python', '/heroku/node-js-sample', '/PanJiaChen/vue-element-admin', '/microsoft/vscode', '/udacity/create-your-own-adventure', '/odoo/odoo']\n"
     ]
    }
   ],
   "source": [
    "trending_repo_url = 'https://github.com/trending?since=monthly'\n",
    "forked_repo_url = 'https://github.com/search?o=desc&{:s}{:d}{:s}q=stars%3A%3E1&s=forks&type=Repositories'.format('p=',current, '&')\n",
    "star_repo_url = \"https://github.com/search?{:s}{:d}{:s}q=stars%3A%3E0&s=stars&type=Repositories\".format('p=',current, '&')\n",
    "\n",
    "current = 0\n",
    "while current < 5: # cycles through n-number of pages \n",
    "    url = forked_repo_url\n",
    "    data = request.urlopen(url).read()\n",
    "    soup = BeautifulSoup(data, \"html.parser\")\n",
    "#     links=[]\n",
    "    for link in soup.findAll('a', class_=\"v-align-middle\"):\n",
    "        #links.append(\n",
    "        link.get('href') # pulls the href from the repo list page and appends it to a list\n",
    "    current += 1\n",
    "    print(links)"
   ]
  },
  {
   "cell_type": "code",
   "execution_count": 125,
   "metadata": {},
   "outputs": [
    {
     "data": {
      "text/plain": [
       "['https://github.com/chartjs/Chart.js',\n",
       " 'https://github.com/rails/rails',\n",
       " 'https://github.com/h5bp/html5-boilerplate',\n",
       " 'https://github.com/getlantern/lantern',\n",
       " 'https://github.com/django/django',\n",
       " 'https://github.com/jakubroztocil/httpie',\n",
       " 'https://github.com/moment/moment',\n",
       " 'https://github.com/meteor/meteor',\n",
       " 'https://github.com/keras-team/keras',\n",
       " 'https://github.com/elastic/elasticsearch']"
      ]
     },
     "execution_count": 125,
     "metadata": {},
     "output_type": "execute_result"
    }
   ],
   "source": [
    "links = l\n",
    "links"
   ]
  },
  {
   "cell_type": "code",
   "execution_count": null,
   "metadata": {},
   "outputs": [],
   "source": [
    "def my_replace(links):\n",
    "    if :\n",
    "        return <replacement variant 1>\n",
    "    return <replacement variant 2>\n",
    "\n",
    "result = re.sub(\"\\w+\", my_replace, input)"
   ]
  },
  {
   "cell_type": "code",
   "execution_count": 130,
   "metadata": {},
   "outputs": [
    {
     "ename": "AttributeError",
     "evalue": "'list' object has no attribute 'sub'",
     "output_type": "error",
     "traceback": [
      "\u001b[0;31m---------------------------------------------------------------------------\u001b[0m",
      "\u001b[0;31mAttributeError\u001b[0m                            Traceback (most recent call last)",
      "\u001b[0;32m<ipython-input-130-4c8fb083eae2>\u001b[0m in \u001b[0;36m<module>\u001b[0;34m\u001b[0m\n\u001b[0;32m----> 1\u001b[0;31m \u001b[0mlinks\u001b[0m\u001b[0;34m.\u001b[0m\u001b[0msub\u001b[0m\u001b[0;34m(\u001b[0m\u001b[0;34m'^[/]'\u001b[0m\u001b[0;34m,\u001b[0m \u001b[0;34m''\u001b[0m\u001b[0;34m,\u001b[0m \u001b[0mregex\u001b[0m\u001b[0;34m=\u001b[0m\u001b[0;32mTrue\u001b[0m\u001b[0;34m)\u001b[0m\u001b[0;34m\u001b[0m\u001b[0;34m\u001b[0m\u001b[0m\n\u001b[0m",
      "\u001b[0;31mAttributeError\u001b[0m: 'list' object has no attribute 'sub'"
     ]
    }
   ],
   "source": [
    "new_links = re.sub('^[/]', '', regex=True)"
   ]
  },
  {
   "cell_type": "code",
   "execution_count": 135,
   "metadata": {},
   "outputs": [],
   "source": [
    "rm_current = links[0]\n",
    "while current < 1: # cycles through length of links \n",
    "    rm_url = rm_current\n",
    "    headers = {'User-Agent': 'Cody'} # codeup.com doesn't like our default user-agent\n",
    "    response = get(rm_url, headers=headers)\n",
    "    soup = BeautifulSoup(response.content, 'html.parser')\n",
    "    article = soup.find('div', class_=\"Box Box--condensed instapaper_body md js-code-block-container\")\n",
    "    \n",
    "    readmes=[]\n",
    "    for reads in links:\n",
    "        readmes.append(article.text)\n",
    " \n",
    "    current += 1\n",
    "    \n",
    "    print(readmes)"
   ]
  },
  {
   "cell_type": "code",
   "execution_count": 131,
   "metadata": {
    "scrolled": false
   },
   "outputs": [
    {
     "ename": "TypeError",
     "evalue": "can only concatenate str (not \"int\") to str",
     "output_type": "error",
     "traceback": [
      "\u001b[0;31m---------------------------------------------------------------------------\u001b[0m",
      "\u001b[0;31mTypeError\u001b[0m                                 Traceback (most recent call last)",
      "\u001b[0;32m<ipython-input-131-d2623afe46f8>\u001b[0m in \u001b[0;36m<module>\u001b[0;34m\u001b[0m\n\u001b[1;32m      8\u001b[0m     \u001b[0marticle\u001b[0m \u001b[0;34m=\u001b[0m \u001b[0msoup\u001b[0m\u001b[0;34m.\u001b[0m\u001b[0mfind\u001b[0m\u001b[0;34m(\u001b[0m\u001b[0;34m'div'\u001b[0m\u001b[0;34m,\u001b[0m \u001b[0mclass_\u001b[0m\u001b[0;34m=\u001b[0m\u001b[0;34m\"Box Box--condensed instapaper_body md js-code-block-container\"\u001b[0m\u001b[0;34m)\u001b[0m\u001b[0;34m\u001b[0m\u001b[0;34m\u001b[0m\u001b[0m\n\u001b[1;32m      9\u001b[0m \u001b[0;34m\u001b[0m\u001b[0m\n\u001b[0;32m---> 10\u001b[0;31m     \u001b[0mrm_current\u001b[0m \u001b[0;34m+=\u001b[0m \u001b[0;36m1\u001b[0m\u001b[0;34m\u001b[0m\u001b[0;34m\u001b[0m\u001b[0m\n\u001b[0m\u001b[1;32m     11\u001b[0m \u001b[0;34m\u001b[0m\u001b[0m\n\u001b[1;32m     12\u001b[0m     \u001b[0mprint\u001b[0m\u001b[0;34m(\u001b[0m\u001b[0marticle\u001b[0m\u001b[0;34m.\u001b[0m\u001b[0mtext\u001b[0m\u001b[0;34m)\u001b[0m\u001b[0;34m\u001b[0m\u001b[0;34m\u001b[0m\u001b[0m\n",
      "\u001b[0;31mTypeError\u001b[0m: can only concatenate str (not \"int\") to str"
     ]
    }
   ],
   "source": [
    "rm_current = links[0]\n",
    "while current < len(links): # cycles through length of links \n",
    "    rm_url = rm_current\n",
    "    headers = {'User-Agent': 'Cody'} # codeup.com doesn't like our default user-agent\n",
    "    response = get(rm_url, headers=headers)\n",
    "\n",
    "    soup = BeautifulSoup(response.content, 'html.parser')\n",
    "    article = soup.find('div', class_=\"Box Box--condensed instapaper_body md js-code-block-container\")\n",
    "    \n",
    "    rm_current += 1\n",
    "    \n",
    "    print(article.text)"
   ]
  },
  {
   "cell_type": "code",
   "execution_count": 113,
   "metadata": {},
   "outputs": [
    {
     "data": {
      "text/plain": [
       "568"
      ]
     },
     "execution_count": 113,
     "metadata": {},
     "output_type": "execute_result"
    }
   ],
   "source": [
    "len(article.text)"
   ]
  },
  {
   "cell_type": "code",
   "execution_count": 107,
   "metadata": {},
   "outputs": [
    {
     "data": {
      "text/plain": [
       "'https://github.com/chartjs/Chart.js'"
      ]
     },
     "execution_count": 107,
     "metadata": {},
     "output_type": "execute_result"
    }
   ],
   "source": [
    "l[0]"
   ]
  },
  {
   "cell_type": "code",
   "execution_count": 25,
   "metadata": {
    "scrolled": false
   },
   "outputs": [
    {
     "name": "stdout",
     "output_type": "stream",
     "text": [
      "\n",
      "\n",
      "\n",
      "\n",
      "        README.md\n",
      "      \n",
      "\n",
      "\n",
      "How to share data with a statistician\n",
      "This is a guide for anyone who needs to share data with a statistician or data scientist. The target audiences I have in mind are:\n",
      "\n",
      "Collaborators who need statisticians or data scientists to analyze data for them\n",
      "Students or postdocs in various disciplines looking for consulting advice\n",
      "Junior statistics students whose job it is to collate/clean/wrangle data sets\n",
      "\n",
      "The goals of this guide are to provide some instruction on the best way to share data to avoid the most common pitfalls\n",
      "and sources of delay in the transition from data collection to data analysis. The Leek group works with a large\n",
      "number of collaborators and the number one source of variation in the speed to results is the status of the data\n",
      "when they arrive at the Leek group. Based on my conversations with other statisticians this is true nearly universally.\n",
      "My strong feeling is that statisticians should be able to handle the data in whatever state they arrive. It is important\n",
      "to see the raw data, understand the steps in the processing pipeline, and be able to incorporate hidden sources of\n",
      "variability in one's data analysis. On the other hand, for many data types, the processing steps are well documented\n",
      "and standardized. So the work of converting the data from raw form to directly analyzable form can be performed\n",
      "before calling on a statistician. This can dramatically speed the turnaround time, since the statistician doesn't\n",
      "have to work through all the pre-processing steps first.\n",
      "What you should deliver to the statistician\n",
      "To facilitate the most efficient and timely analysis this is the information you should pass to a statistician:\n",
      "\n",
      "The raw data.\n",
      "A tidy data set\n",
      "A code book describing each variable and its values in the tidy data set.\n",
      "An explicit and exact recipe you used to go from 1 -> 2,3\n",
      "\n",
      "Let's look at each part of the data package you will transfer.\n",
      "The raw data\n",
      "It is critical that you include the rawest form of the data that you have access to. This ensures\n",
      "that data provenance can be maintained throughout the workflow.  Here are some examples of the\n",
      "raw form of data:\n",
      "\n",
      "The strange binary file your measurement machine spits out\n",
      "The unformatted Excel file with 10 worksheets the company you contracted with sent you\n",
      "The complicated JSON data you got from scraping the Twitter API\n",
      "The hand-entered numbers you collected looking through a microscope\n",
      "\n",
      "You know the raw data are in the right format if you:\n",
      "\n",
      "Ran no software on the data\n",
      "Did not modify any of the data values\n",
      "You did not remove any data from the data set\n",
      "You did not summarize the data in any way\n",
      "\n",
      "If you made any modifications of the raw data it is not the raw form of the data. Reporting modified data\n",
      "as raw data is a very common way to slow down the analysis process, since the analyst will often have to do a\n",
      "forensic study of your data to figure out why the raw data looks weird. (Also imagine what would happen if new data arrived?)\n",
      "The tidy data set\n",
      "The general principles of tidy data are laid out by Hadley Wickham in this paper\n",
      "and this video. While both the paper and the video describe tidy data using R, the principles\n",
      "are more generally applicable:\n",
      "\n",
      "Each variable you measure should be in one column\n",
      "Each different observation of that variable should be in a different row\n",
      "There should be one table for each \"kind\" of variable\n",
      "If you have multiple tables, they should include a column in the table that allows them to be joined or merged\n",
      "\n",
      "While these are the hard and fast rules, there are a number of other things that will make your data set much easier\n",
      "to handle. First is to include a row at the top of each data table/spreadsheet that contains full row names.\n",
      "So if you measured age at diagnosis for patients, you would head that column with the name AgeAtDiagnosis instead\n",
      "of something like ADx or another abbreviation that may be hard for another person to understand.\n",
      "Here is an example of how this would work from genomics. Suppose that for 20 people you have collected gene expression measurements with\n",
      "RNA-sequencing. You have also collected demographic and clinical information\n",
      "about the patients including their age, treatment, and diagnosis. You would have one table/spreadsheet that contains the clinical/demographic\n",
      "information. It would have four columns (patient id, age, treatment, diagnosis) and 21 rows (a row with variable names, then one row\n",
      "for every patient). You would also have one spreadsheet for the summarized genomic data. Usually this type of data\n",
      "is summarized at the level of the number of counts per exon. Suppose you have 100,000 exons, then you would have a\n",
      "table/spreadsheet that had 21 rows (a row for gene names, and one row for each patient) and 100,001 columns (one row for patient\n",
      "ids and one row for each data type).\n",
      "If you are sharing your data with the collaborator in Excel, the tidy data should be in one Excel file per table. They\n",
      "should not have multiple worksheets, no macros should be applied to the data, and no columns/cells should be highlighted.\n",
      "Alternatively share the data in a CSV or TAB-delimited text file. (Beware however that reading CSV files into Excel can sometimes lead to non-reproducible handling of date and time variables.)\n",
      "The code book\n",
      "For almost any data set, the measurements you calculate will need to be described in more detail than you can or should sneak\n",
      "into the spreadsheet. The code book contains this information. At minimum it should contain:\n",
      "\n",
      "Information about the variables (including units!) in the data set not contained in the tidy data\n",
      "Information about the summary choices you made\n",
      "Information about the experimental study design you used\n",
      "\n",
      "In our genomics example, the analyst would want to know what the unit of measurement for each\n",
      "clinical/demographic variable is (age in years, treatment by name/dose, level of diagnosis and how heterogeneous). They\n",
      "would also want to know how you picked the exons you used for summarizing the genomic data (UCSC/Ensembl, etc.). They\n",
      "would also want to know any other information about how you did the data collection/study design. For example,\n",
      "are these the first 20 patients that walked into the clinic? Are they 20 highly selected patients by some characteristic\n",
      "like age? Are they randomized to treatments?\n",
      "A common format for this document is a Word file. There should be a section called \"Study design\" that has a thorough\n",
      "description of how you collected the data. There is a section called \"Code book\" that describes each variable and its\n",
      "units.\n",
      "How to code variables\n",
      "When you put variables into a spreadsheet there are several main categories you will run into depending on their data type:\n",
      "\n",
      "Continuous\n",
      "Ordinal\n",
      "Categorical\n",
      "Missing\n",
      "Censored\n",
      "\n",
      "Continuous variables are anything measured on a quantitative scale that could be any fractional number. An example\n",
      "would be something like weight measured in kg. Ordinal data are data that have a fixed, small (< 100) number of levels but are ordered.\n",
      "This could be for example survey responses where the choices are: poor, fair, good. Categorical data are data where there\n",
      "are multiple categories, but they aren't ordered. One example would be sex: male or female. This coding is attractive because it is self-documenting.  Missing data are data\n",
      "that are unobserved and you don't know the mechanism. You should code missing values as NA. Censored data are data\n",
      "where you know the missingness mechanism on some level. Common examples are a measurement being below a detection limit\n",
      "or a patient being lost to follow-up. They should also be coded as NA when you don't have the data. But you should\n",
      "also add a new column to your tidy data called, \"VariableNameCensored\" which should have values of TRUE if censored\n",
      "and FALSE if not. In the code book you should explain why those values are missing. It is absolutely critical to report\n",
      "to the analyst if there is a reason you know about that some of the data are missing. You should also not impute/make up/\n",
      "throw away missing observations.\n",
      "In general, try to avoid coding categorical or ordinal variables as numbers. When you enter the value for sex in the tidy\n",
      "data, it should be \"male\" or \"female\". The ordinal values in the data set should be \"poor\", \"fair\", and \"good\" not 1, 2 ,3.\n",
      "This will avoid potential mixups about which direction effects go and will help identify coding errors.\n",
      "Always encode every piece of information about your observations using text. For example, if you are storing data in Excel and use a form of colored text or cell background formatting to indicate information about an observation (\"red variable entries were observed in experiment 1.\") then this information will not be exported (and will be lost!) when the data is exported as raw text.  Every piece of data should be encoded as actual text that can be exported.\n",
      "The instruction list/script\n",
      "You may have heard this before, but reproducibility is a big deal in computational science.\n",
      "That means, when you submit your paper, the reviewers and the rest of the world should be able to exactly replicate\n",
      "the analyses from raw data all the way to final results. If you are trying to be efficient, you will likely perform\n",
      "some summarization/data analysis steps before the data can be considered tidy.\n",
      "The ideal thing for you to do when performing summarization is to create a computer script (in R, Python, or something else)\n",
      "that takes the raw data as input and produces the tidy data you are sharing as output. You can try running your script\n",
      "a couple of times and see if the code produces the same output.\n",
      "In many cases, the person who collected the data has incentive to make it tidy for a statistician to speed the process\n",
      "of collaboration. They may not know how to code in a scripting language. In that case, what you should provide the statistician\n",
      "is something called pseudocode. It should look something like:\n",
      "\n",
      "Step 1 - take the raw file, run version 3.1.2 of summarize software with parameters a=1, b=2, c=3\n",
      "Step 2 - run the software separately for each sample\n",
      "Step 3 - take column three of outputfile.out for each sample and that is the corresponding row in the output data set\n",
      "\n",
      "You should also include information about which system (Mac/Windows/Linux) you used the software on and whether you\n",
      "tried it more than once to confirm it gave the same results. Ideally, you will run this by a fellow student/labmate\n",
      "to confirm that they can obtain the same output file you did.\n",
      "What you should expect from the analyst\n",
      "When you turn over a properly tidied data set it dramatically decreases the workload on the statistician. So hopefully\n",
      "they will get back to you much sooner. But most careful statisticians will check your recipe, ask questions about\n",
      "steps you performed, and try to confirm that they can obtain the same tidy data that you did with, at minimum, spot\n",
      "checks.\n",
      "You should then expect from the statistician:\n",
      "\n",
      "An analysis script that performs each of the analyses (not just instructions)\n",
      "The exact computer code they used to run the analysis\n",
      "All output files/figures they generated.\n",
      "\n",
      "This is the information you will use in the supplement to establish reproducibility and precision of your results. Each\n",
      "of the steps in the analysis should be clearly explained and you should ask questions when you don't understand\n",
      "what the analyst did. It is the responsibility of both the statistician and the scientist to understand the statistical\n",
      "analysis. You may not be able to perform the exact analyses without the statistician's code, but you should be able\n",
      "to explain why the statistician performed each step to a labmate/your principal investigator.\n",
      "Contributors\n",
      "\n",
      "Jeff Leek - Wrote the initial version.\n",
      "L. Collado-Torres - Fixed typos, added links.\n",
      "Nick Reich - Added tips on storing data as text.\n",
      "Nick Horton - Minor wording suggestions.\n",
      "\n",
      "\n",
      "\n",
      "\n"
     ]
    }
   ],
   "source": [
    "url = 'https://github.com/jtleek/datasharing'\n",
    "headers = {'User-Agent': 'Eric'} # codeup.com doesn't like our default user-agent\n",
    "response = get(url, headers=headers)\n",
    "\n",
    "\n",
    "soup = BeautifulSoup(response.content, 'html.parser')\n",
    "article = soup.find('div', class_=\"Box Box--condensed instapaper_body md js-code-block-container\")\n",
    "\n",
    "print(article.text)"
   ]
  },
  {
   "cell_type": "code",
   "execution_count": 63,
   "metadata": {},
   "outputs": [
    {
     "name": "stdout",
     "output_type": "stream",
     "text": [
      "R 100.0%\n"
     ]
    }
   ],
   "source": [
    "url = 'https://github.com/rdpeng/ProgrammingAssignment2'\n",
    "headers = {'User-Agent': 'Eric'} # codeup.com doesn't like our default user-agent\n",
    "response = get(url, headers=headers)\n",
    "\n",
    "soup = BeautifulSoup(response.content, 'html.parser')\n",
    "\n",
    "lang = soup.find('span', class_='lang')\n",
    "lang_percent = soup.find('span', class_='percent')\n",
    "\n",
    "print(lang.text + ' ' + lang_percent.text)"
   ]
  }
 ],
 "metadata": {
  "kernelspec": {
   "display_name": "Python 3",
   "language": "python",
   "name": "python3"
  },
  "language_info": {
   "codemirror_mode": {
    "name": "ipython",
    "version": 3
   },
   "file_extension": ".py",
   "mimetype": "text/x-python",
   "name": "python",
   "nbconvert_exporter": "python",
   "pygments_lexer": "ipython3",
   "version": "3.7.1"
  }
 },
 "nbformat": 4,
 "nbformat_minor": 2
}
